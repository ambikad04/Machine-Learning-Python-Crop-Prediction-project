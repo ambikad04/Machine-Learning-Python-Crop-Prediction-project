{
  "nbformat": 4,
  "nbformat_minor": 0,
  "metadata": {
    "colab": {
      "provenance": [],
      "authorship_tag": "ABX9TyOuqatORNXb5Ae36ujpvupc",
      "include_colab_link": true
    },
    "kernelspec": {
      "name": "python3",
      "display_name": "Python 3"
    },
    "language_info": {
      "name": "python"
    },
    "widgets": {
      "application/vnd.jupyter.widget-state+json": {
        "c0541fca5ca04aa397eb2562451e3b3e": {
          "model_module": "@jupyter-widgets/controls",
          "model_name": "VBoxModel",
          "model_module_version": "1.5.0",
          "state": {
            "_dom_classes": [
              "widget-interact"
            ],
            "_model_module": "@jupyter-widgets/controls",
            "_model_module_version": "1.5.0",
            "_model_name": "VBoxModel",
            "_view_count": null,
            "_view_module": "@jupyter-widgets/controls",
            "_view_module_version": "1.5.0",
            "_view_name": "VBoxView",
            "box_style": "",
            "children": [
              "IPY_MODEL_53103608dc9d4b9b85ce025d4b3c53a1",
              "IPY_MODEL_10b2c9a74bf1493dbdf708c00286220f"
            ],
            "layout": "IPY_MODEL_79abcca8755943369ced4cf430a5b366"
          }
        },
        "53103608dc9d4b9b85ce025d4b3c53a1": {
          "model_module": "@jupyter-widgets/controls",
          "model_name": "DropdownModel",
          "model_module_version": "1.5.0",
          "state": {
            "_dom_classes": [],
            "_model_module": "@jupyter-widgets/controls",
            "_model_module_version": "1.5.0",
            "_model_name": "DropdownModel",
            "_options_labels": [
              "rice",
              "maize",
              "jute",
              "cotton",
              "coconut",
              "papaya",
              "orange",
              "apple",
              "muskmelon",
              "watermelon",
              "grapes",
              "mango",
              "banana",
              "pomegranate",
              "lentil",
              "blackgram",
              "mungbean",
              "mothbeans",
              "pigeonpeas",
              "kidneybeans",
              "chickpea",
              "coffee"
            ],
            "_view_count": null,
            "_view_module": "@jupyter-widgets/controls",
            "_view_module_version": "1.5.0",
            "_view_name": "DropdownView",
            "description": "crops",
            "description_tooltip": null,
            "disabled": false,
            "index": 0,
            "layout": "IPY_MODEL_2e605b43c51a478da0b5e372789c2a84",
            "style": "IPY_MODEL_4f31b43bd9064a7ebd07fe6f51dc8d65"
          }
        },
        "10b2c9a74bf1493dbdf708c00286220f": {
          "model_module": "@jupyter-widgets/output",
          "model_name": "OutputModel",
          "model_module_version": "1.0.0",
          "state": {
            "_dom_classes": [],
            "_model_module": "@jupyter-widgets/output",
            "_model_module_version": "1.0.0",
            "_model_name": "OutputModel",
            "_view_count": null,
            "_view_module": "@jupyter-widgets/output",
            "_view_module_version": "1.0.0",
            "_view_name": "OutputView",
            "layout": "IPY_MODEL_63dd4761aa0a41beaec9f7a9d7461c98",
            "msg_id": "",
            "outputs": [
              {
                "output_type": "stream",
                "name": "stdout",
                "text": [
                  "Minimum Nitrogen required  60\n",
                  "Maximum Nitrogen required  99\n",
                  "Average Nitrogen required  79.89\n",
                  "---------------------------------------------------\n",
                  "Minimum Phosphorus required  35\n",
                  "Maximum Phosphorus required  60\n",
                  "Average Phosphorus required  47.58\n",
                  "---------------------------------------------------\n",
                  "Minimum Potassium required  35\n",
                  "Maximum Potassium required  45\n",
                  "Average Potassium required  39.87\n",
                  "---------------------------------------------------\n",
                  "Minimum Temprature required  20.0454142\n",
                  "Maximum Temprature required  26.92995077\n",
                  "Average Temprature required  23.6893322105\n",
                  "---------------------------------------------------\n",
                  "Minimum Humidity required  80.12267476\n",
                  "Maximum Humidity required  84.96907151\n",
                  "Average Humidity required  82.27282153889999\n",
                  "---------------------------------------------------\n",
                  "Minimum pH required  5.005306977\n",
                  "Maximum pH required  7.868474653\n",
                  "Average pH required  6.425470922139999\n",
                  "---------------------------------------------------\n",
                  "Minimum Rainfall required  182.5616319\n",
                  "Maximum Rainfall required  298.5601175\n",
                  "Average Rainfall required  236.18111359399998\n"
                ]
              }
            ]
          }
        },
        "79abcca8755943369ced4cf430a5b366": {
          "model_module": "@jupyter-widgets/base",
          "model_name": "LayoutModel",
          "model_module_version": "1.2.0",
          "state": {
            "_model_module": "@jupyter-widgets/base",
            "_model_module_version": "1.2.0",
            "_model_name": "LayoutModel",
            "_view_count": null,
            "_view_module": "@jupyter-widgets/base",
            "_view_module_version": "1.2.0",
            "_view_name": "LayoutView",
            "align_content": null,
            "align_items": null,
            "align_self": null,
            "border": null,
            "bottom": null,
            "display": null,
            "flex": null,
            "flex_flow": null,
            "grid_area": null,
            "grid_auto_columns": null,
            "grid_auto_flow": null,
            "grid_auto_rows": null,
            "grid_column": null,
            "grid_gap": null,
            "grid_row": null,
            "grid_template_areas": null,
            "grid_template_columns": null,
            "grid_template_rows": null,
            "height": null,
            "justify_content": null,
            "justify_items": null,
            "left": null,
            "margin": null,
            "max_height": null,
            "max_width": null,
            "min_height": null,
            "min_width": null,
            "object_fit": null,
            "object_position": null,
            "order": null,
            "overflow": null,
            "overflow_x": null,
            "overflow_y": null,
            "padding": null,
            "right": null,
            "top": null,
            "visibility": null,
            "width": null
          }
        },
        "2e605b43c51a478da0b5e372789c2a84": {
          "model_module": "@jupyter-widgets/base",
          "model_name": "LayoutModel",
          "model_module_version": "1.2.0",
          "state": {
            "_model_module": "@jupyter-widgets/base",
            "_model_module_version": "1.2.0",
            "_model_name": "LayoutModel",
            "_view_count": null,
            "_view_module": "@jupyter-widgets/base",
            "_view_module_version": "1.2.0",
            "_view_name": "LayoutView",
            "align_content": null,
            "align_items": null,
            "align_self": null,
            "border": null,
            "bottom": null,
            "display": null,
            "flex": null,
            "flex_flow": null,
            "grid_area": null,
            "grid_auto_columns": null,
            "grid_auto_flow": null,
            "grid_auto_rows": null,
            "grid_column": null,
            "grid_gap": null,
            "grid_row": null,
            "grid_template_areas": null,
            "grid_template_columns": null,
            "grid_template_rows": null,
            "height": null,
            "justify_content": null,
            "justify_items": null,
            "left": null,
            "margin": null,
            "max_height": null,
            "max_width": null,
            "min_height": null,
            "min_width": null,
            "object_fit": null,
            "object_position": null,
            "order": null,
            "overflow": null,
            "overflow_x": null,
            "overflow_y": null,
            "padding": null,
            "right": null,
            "top": null,
            "visibility": null,
            "width": null
          }
        },
        "4f31b43bd9064a7ebd07fe6f51dc8d65": {
          "model_module": "@jupyter-widgets/controls",
          "model_name": "DescriptionStyleModel",
          "model_module_version": "1.5.0",
          "state": {
            "_model_module": "@jupyter-widgets/controls",
            "_model_module_version": "1.5.0",
            "_model_name": "DescriptionStyleModel",
            "_view_count": null,
            "_view_module": "@jupyter-widgets/base",
            "_view_module_version": "1.2.0",
            "_view_name": "StyleView",
            "description_width": ""
          }
        },
        "63dd4761aa0a41beaec9f7a9d7461c98": {
          "model_module": "@jupyter-widgets/base",
          "model_name": "LayoutModel",
          "model_module_version": "1.2.0",
          "state": {
            "_model_module": "@jupyter-widgets/base",
            "_model_module_version": "1.2.0",
            "_model_name": "LayoutModel",
            "_view_count": null,
            "_view_module": "@jupyter-widgets/base",
            "_view_module_version": "1.2.0",
            "_view_name": "LayoutView",
            "align_content": null,
            "align_items": null,
            "align_self": null,
            "border": null,
            "bottom": null,
            "display": null,
            "flex": null,
            "flex_flow": null,
            "grid_area": null,
            "grid_auto_columns": null,
            "grid_auto_flow": null,
            "grid_auto_rows": null,
            "grid_column": null,
            "grid_gap": null,
            "grid_row": null,
            "grid_template_areas": null,
            "grid_template_columns": null,
            "grid_template_rows": null,
            "height": null,
            "justify_content": null,
            "justify_items": null,
            "left": null,
            "margin": null,
            "max_height": null,
            "max_width": null,
            "min_height": null,
            "min_width": null,
            "object_fit": null,
            "object_position": null,
            "order": null,
            "overflow": null,
            "overflow_x": null,
            "overflow_y": null,
            "padding": null,
            "right": null,
            "top": null,
            "visibility": null,
            "width": null
          }
        }
      }
    }
  },
  "cells": [
    {
      "cell_type": "markdown",
      "metadata": {
        "id": "view-in-github",
        "colab_type": "text"
      },
      "source": [
        "<a href=\"https://colab.research.google.com/github/ambikad04/Machine-Learning-Python-Crop-Prediction-project/blob/main/crop_prediction_project.ipynb\" target=\"_parent\"><img src=\"https://colab.research.google.com/assets/colab-badge.svg\" alt=\"Open In Colab\"/></a>"
      ]
    },
    {
      "cell_type": "markdown",
      "source": [
        "# **Crop Prediction with Python**\n",
        "In this article, I'll introduce you to a machine learning project on crop prediction with Python programming language. Crops are essential for sustenance, but inaccurate predictions can lead to resource wastage and reduced yields; this project aims to optimize resources, combat food insecurity, and promote sustainable agriculture, securing our future food supply.\n",
        "\n",
        "### **Predicting Crops using Machine Learning**\n",
        "In Google Colab, the combination of Matplotlib, Seaborn, NumPy, and Pandas streamline data analysis and visualization tasks. Matplotlib and Seaborn offer versatile plotting options, while NumPy provides numerical computing capabilities. Pandas simplifies data manipulation, enabling efficient exploration and analysis within the cloud-based Python environment.\n",
        "\n",
        "### **Perpose of the project**\n",
        "The Crop Prediction project uses machine learning, data preprocessing, and user interfaces to offer accurate crop recommendations. By analyzing factors like soil quality and climate conditions with algorithms such as decision trees and random forests, it predicts suitable crops for specific regions. Through data preprocessing, it ensures high-quality inputs for model training. Farmers input parameters like soil type and weather conditions, receiving tailored suggestions. Integration of external data enriches the models, while visualization aids understanding. With scalability and continuous improvement, the project aims to enhance agricultural productivity and sustainability.\n",
        "\n"
      ],
      "metadata": {
        "id": "6NKWQpYZw4dw"
      }
    },
    {
      "cell_type": "markdown",
      "source": [
        "### **Loading the Module and Tools**\n",
        "\n",
        "In this section, We are going to start this task by importing the necessary Python libraries that we need for this task."
      ],
      "metadata": {
        "id": "t7swDpRhzLbp"
      }
    },
    {
      "cell_type": "code",
      "execution_count": 1,
      "metadata": {
        "id": "9LDJr3pdpAIl"
      },
      "outputs": [],
      "source": [
        "# Importing all the necessary libraries that we need\n",
        "\n",
        "import numpy as np  # linear algebra\n",
        "import matplotlib.pyplot as plt\n",
        "import pandas as pd # data processing\n",
        "import seaborn as sns\n",
        "\n",
        "# install Python widgets\n",
        "from ipywidgets import interact\n",
        "\n",
        "import warnings\n",
        "warnings.filterwarnings(\"ignore\")"
      ]
    },
    {
      "cell_type": "markdown",
      "source": [
        "### **Data Preparation**\n",
        "Now let's read the data and do some exploratory data analysis to understand this dataset properly.\n"
      ],
      "metadata": {
        "id": "Qtttslq71Ke7"
      }
    },
    {
      "cell_type": "code",
      "source": [
        "data=pd.read_csv(\"/content/data.csv\")"
      ],
      "metadata": {
        "id": "O9VqGGCv1Kz0"
      },
      "execution_count": 2,
      "outputs": []
    },
    {
      "cell_type": "markdown",
      "source": [
        "Now let's print the dataset to inspect its contents and structure using the Python print function."
      ],
      "metadata": {
        "id": "LbYM8mz3bGb2"
      }
    },
    {
      "cell_type": "code",
      "source": [
        "print(data)"
      ],
      "metadata": {
        "colab": {
          "base_uri": "https://localhost:8080/"
        },
        "id": "DViCrPahbBpa",
        "outputId": "36f2f8a9-5097-4a30-ab06-cb5ca9eebd77"
      },
      "execution_count": 3,
      "outputs": [
        {
          "output_type": "stream",
          "name": "stdout",
          "text": [
            "        N   P   K  temperature   humidity        ph    rainfall   label\n",
            "0      90  42  43    20.879744  82.002744  6.502985  202.935536    rice\n",
            "1      85  58  41    21.770462  80.319644  7.038096  226.655537    rice\n",
            "2      60  55  44    23.004459  82.320763  7.840207  263.964248    rice\n",
            "3      74  35  40    26.491096  80.158363  6.980401  242.864034    rice\n",
            "4      78  42  42    20.130175  81.604873  7.628473  262.717340    rice\n",
            "...   ...  ..  ..          ...        ...       ...         ...     ...\n",
            "2195  107  34  32    26.774637  66.413269  6.780064  177.774507  coffee\n",
            "2196   99  15  27    27.417112  56.636362  6.086922  127.924610  coffee\n",
            "2197  118  33  30    24.131797  67.225123  6.362608  173.322839  coffee\n",
            "2198  117  32  34    26.272418  52.127394  6.758793  127.175293  coffee\n",
            "2199  104  18  30    23.603016  60.396475  6.779833  140.937041  coffee\n",
            "\n",
            "[2200 rows x 8 columns]\n"
          ]
        }
      ]
    },
    {
      "cell_type": "markdown",
      "source": [
        "\n",
        "Visualize missing data in a heatmap using seaborn to assess data completeness and identify gaps for analysis."
      ],
      "metadata": {
        "id": "B_tX40sHdGWv"
      }
    },
    {
      "cell_type": "code",
      "source": [
        "sns.heatmap(data.isnull())"
      ],
      "metadata": {
        "colab": {
          "base_uri": "https://localhost:8080/",
          "height": 527
        },
        "id": "cfIybD1QceOw",
        "outputId": "cbab799e-bd68-4963-a457-a573defd251d"
      },
      "execution_count": 4,
      "outputs": [
        {
          "output_type": "execute_result",
          "data": {
            "text/plain": [
              "<Axes: >"
            ]
          },
          "metadata": {},
          "execution_count": 4
        },
        {
          "output_type": "display_data",
          "data": {
            "text/plain": [
              "<Figure size 640x480 with 2 Axes>"
            ],
            "image/png": "[encoded data removed]"
          },
          "metadata": {}
        }
      ]
    },
    {
      "cell_type": "markdown",
      "source": [
        "## **Optimizing Seasonal Crop Selection: Enhancing Agricultural Diversity**\n",
        "The Seasonal Crop Prediction System utilizes advanced algorithms to analyze environmental factors and historical data, providing tailored recommendations for optimal crop selection during different seasons."
      ],
      "metadata": {
        "id": "KXKDJ-nEfXr7"
      }
    },
    {
      "cell_type": "markdown",
      "source": [
        "### **Summer Crop Selection**\n",
        "Summer crops like pigeonpeas, mothbeans, blackgram, mangoes, grapes, oranges, and papayas thrive in warm climates, offering a diverse range of nutritious produce suitable for seasonal cultivation."
      ],
      "metadata": {
        "id": "oD6bNAQzdZJS"
      }
    },
    {
      "cell_type": "code",
      "source": [
        "print(data[(data['temperature']>30) & (data['humidity']>50)]['label'].unique())"
      ],
      "metadata": {
        "colab": {
          "base_uri": "https://localhost:8080/"
        },
        "id": "O1JlEbNSdZyU",
        "outputId": "4a6313b3-03eb-45f5-d649-ad12c7092de1"
      },
      "execution_count": 5,
      "outputs": [
        {
          "output_type": "stream",
          "name": "stdout",
          "text": [
            "['pigeonpeas' 'mothbeans' 'blackgram' 'mango' 'grapes' 'orange' 'papaya']\n"
          ]
        }
      ]
    },
    {
      "cell_type": "markdown",
      "source": [
        "### **Winter Crop Selection**\n",
        "In winter, crops such as maize, pigeonpeas, lentils, pomegranates, grapes, and oranges flourish, providing a versatile array of produce well-suited for cooler climates and contributing to agricultural diversity."
      ],
      "metadata": {
        "id": "hCy8LpoPf3W9"
      }
    },
    {
      "cell_type": "code",
      "source": [
        "print(data[(data['temperature']<20) & (data['humidity']>30)]['label'].unique())"
      ],
      "metadata": {
        "colab": {
          "base_uri": "https://localhost:8080/"
        },
        "id": "BTKPby-1gCFz",
        "outputId": "1805c860-8946-497a-a9a1-ec771b9d6121"
      },
      "execution_count": 6,
      "outputs": [
        {
          "output_type": "stream",
          "name": "stdout",
          "text": [
            "['maize' 'pigeonpeas' 'lentil' 'pomegranate' 'grapes' 'orange']\n"
          ]
        }
      ]
    },
    {
      "cell_type": "markdown",
      "source": [
        "### **Monsoon Crop Selection**\n",
        "During the monsoon season, crops like rice, papaya, and coconut thrive, benefiting from the abundant rainfall and humid conditions. These crops contribute significantly to agricultural diversity, offering essential staples and nutritious fruits to sustain local communities."
      ],
      "metadata": {
        "id": "gCafA__vgWHn"
      }
    },
    {
      "cell_type": "code",
      "source": [
        "print(data[(data['rainfall']>200) & (data['humidity']>50)]['label'].unique())"
      ],
      "metadata": {
        "colab": {
          "base_uri": "https://localhost:8080/"
        },
        "id": "SRpp3dBRghE8",
        "outputId": "d4242820-c21d-4667-a355-d5720d428f5f"
      },
      "execution_count": 7,
      "outputs": [
        {
          "output_type": "stream",
          "name": "stdout",
          "text": [
            "['rice' 'papaya' 'coconut']\n"
          ]
        }
      ]
    },
    {
      "cell_type": "markdown",
      "source": [
        "## **Comprehensive Multivariate Analysis for Crop Growth Optimization**\n",
        "In multivariate analysis, we utilize subplots to visualize various factors impacting crop growth. Employing seaborn's histplot function, we construct a histogram graph with the following parameters: Nitrogen represented in red, Phosphorus in yellow, Potassium in green, Temperature in blue, Humidity in grey, pH in cyan, and Rainfall in orange. Through this comprehensive analysis, we discern correlations and patterns among these crucial agricultural variables, aiding in informed decision-making for optimal crop cultivation and management strategies."
      ],
      "metadata": {
        "id": "XABQG-25gnFT"
      }
    },
    {
      "cell_type": "code",
      "source": [
        "plt.subplot(3,4,1)\n",
        "sns.histplot(data['N'],color=\"red\")\n",
        "plt.xlabel(\"Nitrogen\")\n",
        "plt.grid()\n",
        "\n",
        "plt.subplot(3,4,2)\n",
        "sns.histplot(data['P'],color=\"yellow\")\n",
        "plt.xlabel(\"Phosphorus\")\n",
        "plt.grid()\n",
        "\n",
        "plt.subplot(3,4,3)\n",
        "sns.histplot(data['K'],color=\"green\")\n",
        "plt.xlabel(\"Potassium\")\n",
        "plt.grid()\n",
        "\n",
        "plt.subplot(3,4,4)\n",
        "sns.histplot(data['temperature'],color=\"blue\")\n",
        "plt.xlabel(\"Temprature\")\n",
        "plt.grid()\n",
        "\n",
        "plt.subplot(2,4,5)\n",
        "sns.histplot(data['humidity'],color=\"grey\")\n",
        "plt.xlabel(\"Humidity\")\n",
        "plt.grid()\n",
        "\n",
        "plt.subplot(2,4,6)\n",
        "sns.histplot(data['ph'],color=\"cyan\")\n",
        "plt.xlabel(\"pH\")\n",
        "plt.grid()\n",
        "\n",
        "plt.subplot(2,4,7)\n",
        "sns.histplot(data['rainfall'],color=\"orange\")\n",
        "plt.xlabel(\"Rainfall\")\n",
        "plt.grid()"
      ],
      "metadata": {
        "colab": {
          "base_uri": "https://localhost:8080/",
          "height": 454
        },
        "id": "G6bSoc0kiUce",
        "outputId": "91817d74-2ff5-4742-deaf-5f5cf9230c36"
      },
      "execution_count": 8,
      "outputs": [
        {
          "output_type": "display_data",
          "data": {
            "text/plain": [
              "<Figure size 640x480 with 7 Axes>"
            ],
            "image/png": "[encoded data removed]"
          },
          "metadata": {}
        }
      ]
    },
    {
      "cell_type": "markdown",
      "source": [
        "### **Crop-wise Nutrient and Environmental Requirements**\n",
        "We analyze the maximum, minimum, and average levels of Nitrogen, Phosphorus, Potassium, Temperature, Humidity, pH, and Rainfall, focusing on each crop individually to determine specific cultivation needs."
      ],
      "metadata": {
        "id": "7PRwh0stihrT"
      }
    },
    {
      "cell_type": "code",
      "source": [
        "@interact\n",
        "def summary(crops=list(data['label'].value_counts().index)):\n",
        "  x=data[data['label']==crops]\n",
        "  print(\"Minimum Nitrogen required \",x['N'].min())\n",
        "  print(\"Maximum Nitrogen required \",x['N'].max())\n",
        "  print(\"Average Nitrogen required \",x['N'].mean())\n",
        "\n",
        "  print(\"---------------------------------------------------\")\n",
        "\n",
        "  print(\"Minimum Phosphorus required \",x['P'].min())\n",
        "  print(\"Maximum Phosphorus required \",x['P'].max())\n",
        "  print(\"Average Phosphorus required \",x['P'].mean())\n",
        "\n",
        "  print(\"---------------------------------------------------\")\n",
        "\n",
        "  print(\"Minimum Potassium required \",x['K'].min())\n",
        "  print(\"Maximum Potassium required \",x['K'].max())\n",
        "  print(\"Average Potassium required \",x['K'].mean())\n",
        "\n",
        "\n",
        "  print(\"---------------------------------------------------\")\n",
        "\n",
        "  print(\"Minimum Temprature required \",x['temperature'].min())\n",
        "  print(\"Maximum Temprature required \",x['temperature'].max())\n",
        "  print(\"Average Temprature required \",x['temperature'].mean())\n",
        "\n",
        "  print(\"---------------------------------------------------\")\n",
        "\n",
        "  print(\"Minimum Humidity required \",x['humidity'].min())\n",
        "  print(\"Maximum Humidity required \",x['humidity'].max())\n",
        "  print(\"Average Humidity required \",x['humidity'].mean())\n",
        "\n",
        "  print(\"---------------------------------------------------\")\n",
        "\n",
        "  print(\"Minimum pH required \",x['ph'].min())\n",
        "  print(\"Maximum pH required \",x['ph'].max())\n",
        "  print(\"Average pH required \",x['ph'].mean())\n",
        "\n",
        "  print(\"---------------------------------------------------\")\n",
        "\n",
        "  print(\"Minimum Rainfall required \",x['rainfall'].min())\n",
        "  print(\"Maximum Rainfall required \",x['rainfall'].max())\n",
        "  print(\"Average Rainfall required \",x['rainfall'].mean())"
      ],
      "metadata": {
        "colab": {
          "base_uri": "https://localhost:8080/",
          "height": 518,
          "referenced_widgets": [
            "c0541fca5ca04aa397eb2562451e3b3e",
            "53103608dc9d4b9b85ce025d4b3c53a1",
            "10b2c9a74bf1493dbdf708c00286220f",
            "79abcca8755943369ced4cf430a5b366",
            "2e605b43c51a478da0b5e372789c2a84",
            "4f31b43bd9064a7ebd07fe6f51dc8d65",
            "63dd4761aa0a41beaec9f7a9d7461c98"
          ]
        },
        "id": "YnaqolBujb8z",
        "outputId": "b30d7ea2-7364-40b2-dbd7-511a46df05cc"
      },
      "execution_count": 9,
      "outputs": [
        {
          "output_type": "display_data",
          "data": {
            "text/plain": [
              "interactive(children=(Dropdown(description='crops', options=('rice', 'maize', 'jute', 'cotton', 'coconut', 'pa…"
            ],
            "application/vnd.jupyter.widget-view+json": {
              "version_major": 2,
              "version_minor": 0,
              "model_id": "c0541fca5ca04aa397eb2562451e3b3e"
            }
          },
          "metadata": {}
        }
      ]
    },
    {
      "cell_type": "markdown",
      "source": [
        "\n",
        "### **Optimizing Clustering with the Elbow Method**\n",
        " The Elbow Method to enhance crop prediction accuracy. Multivariate analysis scrutinizes multiple growth factors like nitrogen, phosphorus, and temperature, aiding in informed cultivation decisions. Meanwhile, the Elbow Method optimizes clustering algorithms, facilitating precise crop categorization."
      ],
      "metadata": {
        "id": "Q4RUPSILjiQF"
      }
    },
    {
      "cell_type": "code",
      "source": [
        "from pandas.core.common import random_state\n",
        "from sklearn.cluster import KMeans\n",
        "x=data.drop(['label'],axis=1).values\n",
        "wcss=[]\n",
        "for i in range(1,11):\n",
        "  km=KMeans(n_clusters=i,init=\"k-means++\",max_iter=2000,n_init=10,random_state=0)\n",
        "  km.fit(x)\n",
        "  wcss.append(km.inertia_)\n",
        "\n",
        "plt.plot(range(1,11),wcss)\n",
        "print(wcss)"
      ],
      "metadata": {
        "colab": {
          "base_uri": "https://localhost:8080/",
          "height": 482
        },
        "id": "LPLJ3skImA15",
        "outputId": "f33929de-aed2-446e-b058-963622ce58e0"
      },
      "execution_count": 10,
      "outputs": [
        {
          "output_type": "stream",
          "name": "stdout",
          "text": [
            "[18820170.463645916, 12070916.353533491, 7423970.865410905, 5337369.950298382, 4417511.116768206, 3748646.207999496, 3122776.093349531, 2727858.0937568434, 2374020.0367853693, 2132297.3163274433]\n"
          ]
        },
        {
          "output_type": "display_data",
          "data": {
            "text/plain": [
              "<Figure size 640x480 with 1 Axes>"
            ],
            "image/png": "[encoded data removed]"
          },
          "metadata": {}
        }
      ]
    },
    {
      "cell_type": "markdown",
      "source": [
        "### **Crop Clustering for Enhanced Agricultural Management**\n",
        "Utilizing clustering techniques to categorize crops based on similar growth patterns and environmental requirements, facilitating targeted cultivation strategies for optimal yield and sustainability.\n",
        "\n",
        "\n"
      ],
      "metadata": {
        "id": "HVv_eGfcmEXb"
      }
    },
    {
      "cell_type": "markdown",
      "source": [
        "### **Data Segmentation for Model Training**\n",
        "\"X_train\" and \"y_train\" are pivotal for supervised machine learning. \"X_train\" holds input features like soil and climate data, while \"y_train\" contains corresponding crop labels. This setup allows training models to link environmental conditions to specific crop outcomes, aiding decision-making in agriculture."
      ],
      "metadata": {
        "id": "60MvbQsTo8nT"
      }
    },
    {
      "cell_type": "markdown",
      "source": [
        "X_train Data: Input Features for Model Training"
      ],
      "metadata": {
        "id": "qq-pELafoBV6"
      }
    },
    {
      "cell_type": "code",
      "source": [
        "x=data.drop(['label'],axis=1)\n",
        "x=x.values\n",
        "print(x)\n",
        "km=KMeans(n_clusters=4,init=\"k-means++\",max_iter=2000,n_init=10,random_state=0)"
      ],
      "metadata": {
        "colab": {
          "base_uri": "https://localhost:8080/"
        },
        "id": "KJCFVTwPmdCG",
        "outputId": "9bfbea49-e942-4a2a-dc83-aef461281dcd"
      },
      "execution_count": 11,
      "outputs": [
        {
          "output_type": "stream",
          "name": "stdout",
          "text": [
            "[[ 90.          42.          43.         ...  82.00274423   6.50298529\n",
            "  202.9355362 ]\n",
            " [ 85.          58.          41.         ...  80.31964408   7.03809636\n",
            "  226.6555374 ]\n",
            " [ 60.          55.          44.         ...  82.3207629    7.84020714\n",
            "  263.9642476 ]\n",
            " ...\n",
            " [118.          33.          30.         ...  67.22512329   6.36260785\n",
            "  173.3228386 ]\n",
            " [117.          32.          34.         ...  52.12739421   6.75879255\n",
            "  127.1752928 ]\n",
            " [104.          18.          30.         ...  60.39647474   6.77983261\n",
            "  140.9370415 ]]\n"
          ]
        }
      ]
    },
    {
      "cell_type": "code",
      "source": [
        "y_means=km.fit_predict(x)\n",
        "a=data['label']\n",
        "y_means=pd.DataFrame(y_means)\n",
        "z=pd.concat([y_means,a],axis=1)\n",
        "\n",
        "z=z.rename(columns={0:\"cluster\"})"
      ],
      "metadata": {
        "id": "okrYBFzXmtXX"
      },
      "execution_count": 12,
      "outputs": []
    },
    {
      "cell_type": "markdown",
      "source": [
        "Visualizing Cluster Distribution: Explore the characteristics of Cluster 1, Cluster 2, Cluster 3, and Cluster 4 for deeper insights into crop grouping and agricultural management."
      ],
      "metadata": {
        "id": "0AVTDK9im33P"
      }
    },
    {
      "cell_type": "code",
      "source": [
        "print(\"Cluster 1: \",z[z['cluster']==0]['label'].unique())"
      ],
      "metadata": {
        "colab": {
          "base_uri": "https://localhost:8080/"
        },
        "id": "bOCrPHJ_m3cp",
        "outputId": "d071b5cb-f688-41b9-c0a8-dff8bb98608a"
      },
      "execution_count": 13,
      "outputs": [
        {
          "output_type": "stream",
          "name": "stdout",
          "text": [
            "Cluster 1:  ['maize' 'chickpea' 'kidneybeans' 'pigeonpeas' 'mothbeans' 'mungbean'\n",
            " 'blackgram' 'lentil' 'pomegranate' 'mango' 'orange' 'papaya' 'coconut']\n"
          ]
        }
      ]
    },
    {
      "cell_type": "code",
      "source": [
        "print(\"Cluster 2: \",z[z['cluster']==1]['label'].unique())"
      ],
      "metadata": {
        "colab": {
          "base_uri": "https://localhost:8080/"
        },
        "id": "a-AFH_WNnUNI",
        "outputId": "1601d48a-aec1-4a15-fc4b-44309d713f14"
      },
      "execution_count": 14,
      "outputs": [
        {
          "output_type": "stream",
          "name": "stdout",
          "text": [
            "Cluster 2:  ['maize' 'banana' 'watermelon' 'muskmelon' 'papaya' 'cotton' 'coffee']\n"
          ]
        }
      ]
    },
    {
      "cell_type": "code",
      "source": [
        "print(\"Cluster 3: \",z[z['cluster']==2]['label'].unique())"
      ],
      "metadata": {
        "colab": {
          "base_uri": "https://localhost:8080/"
        },
        "id": "Uf2OJGwqnX6S",
        "outputId": "0e7b358d-4b2a-4bee-e7dd-e157f873c3c3"
      },
      "execution_count": 15,
      "outputs": [
        {
          "output_type": "stream",
          "name": "stdout",
          "text": [
            "Cluster 3:  ['grapes' 'apple']\n"
          ]
        }
      ]
    },
    {
      "cell_type": "code",
      "source": [
        "print(\"Cluster 4: \",z[z['cluster']==3]['label'].unique())"
      ],
      "metadata": {
        "colab": {
          "base_uri": "https://localhost:8080/"
        },
        "id": "b9QQVgS8navL",
        "outputId": "23546a58-9d9c-446f-cf0e-8938e0fced11"
      },
      "execution_count": 16,
      "outputs": [
        {
          "output_type": "stream",
          "name": "stdout",
          "text": [
            "Cluster 4:  ['rice' 'pigeonpeas' 'papaya' 'coconut' 'jute' 'coffee']\n"
          ]
        }
      ]
    },
    {
      "cell_type": "markdown",
      "source": [
        "y_train Data: Target Labels for Model Training"
      ],
      "metadata": {
        "id": "z0A5DyxPoHrO"
      }
    },
    {
      "cell_type": "code",
      "source": [
        "y=data['label']\n",
        "from sklearn.model_selection import train_test_split\n",
        "\n",
        "x_train,x_test,y_train,y_test=train_test_split(x,y,test_size=.2,random_state=0)"
      ],
      "metadata": {
        "id": "mGxXU48EnjGG"
      },
      "execution_count": 17,
      "outputs": []
    },
    {
      "cell_type": "markdown",
      "source": [
        "**Employing Logistic Regression for Agricultural Analysis**\n",
        "\n",
        "utilize Logistic Regression model to analyze and classify agricultural data. By leveraging this powerful tool, aim to predict and optimize crop outcomes based on diverse environmental factors, fostering informed decision-making in agriculture."
      ],
      "metadata": {
        "id": "uHMzyCmoplTw"
      }
    },
    {
      "cell_type": "code",
      "source": [
        "from sklearn.linear_model import LogisticRegression\n",
        "model=LogisticRegression()\n",
        "model.fit(x_train,y_train)"
      ],
      "metadata": {
        "colab": {
          "base_uri": "https://localhost:8080/",
          "height": 74
        },
        "id": "X2i-MLgGp7Yf",
        "outputId": "dbcfde38-b651-43c1-abc7-6389f1104dbd"
      },
      "execution_count": 18,
      "outputs": [
        {
          "output_type": "execute_result",
          "data": {
            "text/plain": [
              "LogisticRegression()"
            ],
            "text/html": [
              "<style>#sk-container-id-1 {color: black;background-color: white;}#sk-container-id-1 pre{padding: 0;}#sk-container-id-1 div.sk-toggleable {background-color: white;}#sk-container-id-1 label.sk-toggleable__label {cursor: pointer;display: block;width: 100%;margin-bottom: 0;padding: 0.3em;box-sizing: border-box;text-align: center;}#sk-container-id-1 label.sk-toggleable__label-arrow:before {content: \"▸\";float: left;margin-right: 0.25em;color: #696969;}#sk-container-id-1 label.sk-toggleable__label-arrow:hover:before {color: black;}#sk-container-id-1 div.sk-estimator:hover label.sk-toggleable__label-arrow:before {color: black;}#sk-container-id-1 div.sk-toggleable__content {max-height: 0;max-width: 0;overflow: hidden;text-align: left;background-color: #f0f8ff;}#sk-container-id-1 div.sk-toggleable__content pre {margin: 0.2em;color: black;border-radius: 0.25em;background-color: #f0f8ff;}#sk-container-id-1 input.sk-toggleable__control:checked~div.sk-toggleable__content {max-height: 200px;max-width: 100%;overflow: auto;}#sk-container-id-1 input.sk-toggleable__control:checked~label.sk-toggleable__label-arrow:before {content: \"▾\";}#sk-container-id-1 div.sk-estimator input.sk-toggleable__control:checked~label.sk-toggleable__label {background-color: #d4ebff;}#sk-container-id-1 div.sk-label input.sk-toggleable__control:checked~label.sk-toggleable__label {background-color: #d4ebff;}#sk-container-id-1 input.sk-hidden--visually {border: 0;clip: rect(1px 1px 1px 1px);clip: rect(1px, 1px, 1px, 1px);height: 1px;margin: -1px;overflow: hidden;padding: 0;position: absolute;width: 1px;}#sk-container-id-1 div.sk-estimator {font-family: monospace;background-color: #f0f8ff;border: 1px dotted black;border-radius: 0.25em;box-sizing: border-box;margin-bottom: 0.5em;}#sk-container-id-1 div.sk-estimator:hover {background-color: #d4ebff;}#sk-container-id-1 div.sk-parallel-item::after {content: \"\";width: 100%;border-bottom: 1px solid gray;flex-grow: 1;}#sk-container-id-1 div.sk-label:hover label.sk-toggleable__label {background-color: #d4ebff;}#sk-container-id-1 div.sk-serial::before {content: \"\";position: absolute;border-left: 1px solid gray;box-sizing: border-box;top: 0;bottom: 0;left: 50%;z-index: 0;}#sk-container-id-1 div.sk-serial {display: flex;flex-direction: column;align-items: center;background-color: white;padding-right: 0.2em;padding-left: 0.2em;position: relative;}#sk-container-id-1 div.sk-item {position: relative;z-index: 1;}#sk-container-id-1 div.sk-parallel {display: flex;align-items: stretch;justify-content: center;background-color: white;position: relative;}#sk-container-id-1 div.sk-item::before, #sk-container-id-1 div.sk-parallel-item::before {content: \"\";position: absolute;border-left: 1px solid gray;box-sizing: border-box;top: 0;bottom: 0;left: 50%;z-index: -1;}#sk-container-id-1 div.sk-parallel-item {display: flex;flex-direction: column;z-index: 1;position: relative;background-color: white;}#sk-container-id-1 div.sk-parallel-item:first-child::after {align-self: flex-end;width: 50%;}#sk-container-id-1 div.sk-parallel-item:last-child::after {align-self: flex-start;width: 50%;}#sk-container-id-1 div.sk-parallel-item:only-child::after {width: 0;}#sk-container-id-1 div.sk-dashed-wrapped {border: 1px dashed gray;margin: 0 0.4em 0.5em 0.4em;box-sizing: border-box;padding-bottom: 0.4em;background-color: white;}#sk-container-id-1 div.sk-label label {font-family: monospace;font-weight: bold;display: inline-block;line-height: 1.2em;}#sk-container-id-1 div.sk-label-container {text-align: center;}#sk-container-id-1 div.sk-container {/* jupyter's `normalize.less` sets `[hidden] { display: none; }` but bootstrap.min.css set `[hidden] { display: none !important; }` so we also need the `!important` here to be able to override the default hidden behavior on the sphinx rendered scikit-learn.org. See: https://github.com/scikit-learn/scikit-learn/issues/21755 */display: inline-block !important;position: relative;}#sk-container-id-1 div.sk-text-repr-fallback {display: none;}</style><div id=\"sk-container-id-1\" class=\"sk-top-container\"><div class=\"sk-text-repr-fallback\"><pre>LogisticRegression()</pre><b>In a Jupyter environment, please rerun this cell to show the HTML representation or trust the notebook. <br />On GitHub, the HTML representation is unable to render, please try loading this page with nbviewer.org.</b></div><div class=\"sk-container\" hidden><div class=\"sk-item\"><div class=\"sk-estimator sk-toggleable\"><input class=\"sk-toggleable__control sk-hidden--visually\" id=\"sk-estimator-id-1\" type=\"checkbox\" checked><label for=\"sk-estimator-id-1\" class=\"sk-toggleable__label sk-toggleable__label-arrow\">LogisticRegression</label><div class=\"sk-toggleable__content\"><pre>LogisticRegression()</pre></div></div></div></div></div>"
            ]
          },
          "metadata": {},
          "execution_count": 18
        }
      ]
    },
    {
      "cell_type": "markdown",
      "source": [
        "Printing predicted crop outcomes using 'print(pred)' for informed agricultural decisions."
      ],
      "metadata": {
        "id": "snrO1kFmqmsw"
      }
    },
    {
      "cell_type": "code",
      "source": [
        "x_data=np.array([[30,20,30,40,20,7,200]])\n",
        "\n",
        "pred=model.predict(x_data)\n",
        "print(pred)"
      ],
      "metadata": {
        "colab": {
          "base_uri": "https://localhost:8080/"
        },
        "id": "i80h7rbRqa9K",
        "outputId": "7af48e8f-47b0-4ca3-e8c9-469edda807b5"
      },
      "execution_count": 19,
      "outputs": [
        {
          "output_type": "stream",
          "name": "stdout",
          "text": [
            "['mango']\n"
          ]
        }
      ]
    },
    {
      "cell_type": "markdown",
      "source": [
        "Comparing predicted outcomes (y_pred) with actual test labels (y_test) to assess model performance and accuracy."
      ],
      "metadata": {
        "id": "DfrOY6-Cq99b"
      }
    },
    {
      "cell_type": "code",
      "source": [
        "y_pred=model.predict(x_test)\n",
        "from sklearn.metrics import classification_report\n",
        "cr=classification_report(y_test,y_pred);\n",
        "print(cr)"
      ],
      "metadata": {
        "colab": {
          "base_uri": "https://localhost:8080/"
        },
        "id": "rBA2JW3vqyrL",
        "outputId": "c04446ba-0f54-4a5a-fdb3-3fb20b71107b"
      },
      "execution_count": 20,
      "outputs": [
        {
          "output_type": "stream",
          "name": "stdout",
          "text": [
            "              precision    recall  f1-score   support\n",
            "\n",
            "       apple       1.00      1.00      1.00        18\n",
            "      banana       1.00      1.00      1.00        18\n",
            "   blackgram       0.86      0.82      0.84        22\n",
            "    chickpea       1.00      1.00      1.00        23\n",
            "     coconut       1.00      1.00      1.00        15\n",
            "      coffee       1.00      1.00      1.00        17\n",
            "      cotton       0.89      1.00      0.94        16\n",
            "      grapes       1.00      1.00      1.00        18\n",
            "        jute       0.84      1.00      0.91        21\n",
            " kidneybeans       1.00      1.00      1.00        20\n",
            "      lentil       0.94      0.94      0.94        17\n",
            "       maize       0.94      0.89      0.91        18\n",
            "       mango       1.00      1.00      1.00        21\n",
            "   mothbeans       0.88      0.92      0.90        25\n",
            "    mungbean       1.00      1.00      1.00        17\n",
            "   muskmelon       1.00      1.00      1.00        23\n",
            "      orange       1.00      1.00      1.00        23\n",
            "      papaya       1.00      0.95      0.98        21\n",
            "  pigeonpeas       1.00      1.00      1.00        22\n",
            " pomegranate       1.00      1.00      1.00        23\n",
            "        rice       1.00      0.84      0.91        25\n",
            "  watermelon       1.00      1.00      1.00        17\n",
            "\n",
            "    accuracy                           0.97       440\n",
            "   macro avg       0.97      0.97      0.97       440\n",
            "weighted avg       0.97      0.97      0.97       440\n",
            "\n"
          ]
        }
      ]
    },
    {
      "cell_type": "markdown",
      "source": [
        "\n",
        "Import scikit-learn's metrics module to access confusion_matrix and visualize it using seaborn's heatmap."
      ],
      "metadata": {
        "id": "IT0_jK5ZsMbx"
      }
    },
    {
      "cell_type": "code",
      "source": [
        "from sklearn.metrics import confusion_matrix\n",
        "cm=confusion_matrix(y_test,y_pred)\n",
        "sns.heatmap(cm,annot=True)"
      ],
      "metadata": {
        "colab": {
          "base_uri": "https://localhost:8080/",
          "height": 447
        },
        "id": "mwgzlMpsq9Xg",
        "outputId": "a9c8ace2-1841-4f1a-bdee-8c8f98eeb29a"
      },
      "execution_count": 21,
      "outputs": [
        {
          "output_type": "execute_result",
          "data": {
            "text/plain": [
              "<Axes: >"
            ]
          },
          "metadata": {},
          "execution_count": 21
        },
        {
          "output_type": "display_data",
          "data": {
            "text/plain": [
              "<Figure size 640x480 with 2 Axes>"
            ],
            "image/png": "[encoded data removed]"
          },
          "metadata": {}
        }
      ]
    }
  ]
}